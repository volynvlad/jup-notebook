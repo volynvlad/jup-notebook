{
 "cells": [
  {
   "cell_type": "code",
   "execution_count": 3,
   "metadata": {},
   "outputs": [
    {
     "name": "stdout",
     "output_type": "stream",
     "text": [
      "tensorflow version - 1.14.0\n"
     ]
    }
   ],
   "source": [
    "import tensorflow as tf\n",
    "print(\"tensorflow version - {}\".format(tf.__version__))"
   ]
  },
  {
   "cell_type": "code",
   "execution_count": 2,
   "metadata": {},
   "outputs": [
    {
     "name": "stdout",
     "output_type": "stream",
     "text": [
      "Requirement already satisfied: tensorflow==2.0.0 in /home/vlad/anaconda3/lib/python3.7/site-packages (2.0.0)\n",
      "Requirement already satisfied: gast==0.2.2 in /home/vlad/anaconda3/lib/python3.7/site-packages (from tensorflow==2.0.0) (0.2.2)\n",
      "Requirement already satisfied: keras-preprocessing>=1.0.5 in /home/vlad/anaconda3/lib/python3.7/site-packages (from tensorflow==2.0.0) (1.1.0)\n",
      "Requirement already satisfied: grpcio>=1.8.6 in /home/vlad/anaconda3/lib/python3.7/site-packages (from tensorflow==2.0.0) (1.24.3)\n",
      "Requirement already satisfied: keras-applications>=1.0.8 in /home/vlad/anaconda3/lib/python3.7/site-packages (from tensorflow==2.0.0) (1.0.8)\n",
      "Requirement already satisfied: tensorboard<2.1.0,>=2.0.0 in /home/vlad/anaconda3/lib/python3.7/site-packages (from tensorflow==2.0.0) (2.0.0)\n",
      "Requirement already satisfied: google-pasta>=0.1.6 in /home/vlad/anaconda3/lib/python3.7/site-packages (from tensorflow==2.0.0) (0.1.7)\n",
      "Requirement already satisfied: six>=1.10.0 in /home/vlad/anaconda3/lib/python3.7/site-packages (from tensorflow==2.0.0) (1.13.0)\n",
      "Requirement already satisfied: termcolor>=1.1.0 in /home/vlad/anaconda3/lib/python3.7/site-packages (from tensorflow==2.0.0) (1.1.0)\n",
      "Requirement already satisfied: astor>=0.6.0 in /home/vlad/anaconda3/lib/python3.7/site-packages (from tensorflow==2.0.0) (0.8.0)\n",
      "Requirement already satisfied: absl-py>=0.7.0 in /home/vlad/anaconda3/lib/python3.7/site-packages (from tensorflow==2.0.0) (0.8.1)\n",
      "Requirement already satisfied: protobuf>=3.6.1 in /home/vlad/anaconda3/lib/python3.7/site-packages (from tensorflow==2.0.0) (3.10.0)\n",
      "Requirement already satisfied: wrapt>=1.11.1 in /home/vlad/anaconda3/lib/python3.7/site-packages (from tensorflow==2.0.0) (1.11.2)\n",
      "Requirement already satisfied: wheel>=0.26 in /home/vlad/anaconda3/lib/python3.7/site-packages (from tensorflow==2.0.0) (0.33.6)\n",
      "Requirement already satisfied: tensorflow-estimator<2.1.0,>=2.0.0 in /home/vlad/anaconda3/lib/python3.7/site-packages (from tensorflow==2.0.0) (2.0.1)\n",
      "Requirement already satisfied: numpy<2.0,>=1.16.0 in /home/vlad/anaconda3/lib/python3.7/site-packages (from tensorflow==2.0.0) (1.17.4)\n",
      "Requirement already satisfied: opt-einsum>=2.3.2 in /home/vlad/anaconda3/lib/python3.7/site-packages (from tensorflow==2.0.0) (3.1.0)\n",
      "Requirement already satisfied: h5py in /home/vlad/anaconda3/lib/python3.7/site-packages (from keras-applications>=1.0.8->tensorflow==2.0.0) (2.10.0)\n",
      "Requirement already satisfied: markdown>=2.6.8 in /home/vlad/anaconda3/lib/python3.7/site-packages (from tensorboard<2.1.0,>=2.0.0->tensorflow==2.0.0) (3.1.1)\n",
      "Requirement already satisfied: werkzeug>=0.11.15 in /home/vlad/anaconda3/lib/python3.7/site-packages (from tensorboard<2.1.0,>=2.0.0->tensorflow==2.0.0) (0.16.0)\n",
      "Requirement already satisfied: setuptools>=41.0.0 in /home/vlad/anaconda3/lib/python3.7/site-packages (from tensorboard<2.1.0,>=2.0.0->tensorflow==2.0.0) (41.6.0.post20191030)\n"
     ]
    }
   ],
   "source": [
    "!pip install tensorflow==2.0.0"
   ]
  },
  {
   "cell_type": "code",
   "execution_count": null,
   "metadata": {},
   "outputs": [],
   "source": []
  }
 ],
 "metadata": {
  "kernelspec": {
   "display_name": "Python 3",
   "language": "python",
   "name": "python3"
  },
  "language_info": {
   "codemirror_mode": {
    "name": "ipython",
    "version": 3
   },
   "file_extension": ".py",
   "mimetype": "text/x-python",
   "name": "python",
   "nbconvert_exporter": "python",
   "pygments_lexer": "ipython3",
   "version": "3.6.8"
  }
 },
 "nbformat": 4,
 "nbformat_minor": 2
}
